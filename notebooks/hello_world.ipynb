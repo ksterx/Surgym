{
 "cells": [
  {
   "cell_type": "code",
   "execution_count": null,
   "id": "f639c7a9",
   "metadata": {},
   "outputs": [],
   "source": [
    "# Copyright (c) 2020-2021, NVIDIA CORPORATION.  All rights reserved.\n",
    "#\n",
    "# NVIDIA CORPORATION and its licensors retain all intellectual property\n",
    "# and proprietary rights in and to this software, related documentation\n",
    "# and any modifications thereto.  Any use, reproduction, disclosure or\n",
    "# distribution of this software and related documentation without an express\n",
    "# license agreement from NVIDIA CORPORATION is strictly prohibited.\n"
   ]
  },
  {
   "cell_type": "code",
   "execution_count": 1,
   "id": "420e8940",
   "metadata": {
    "tags": []
   },
   "outputs": [
    {
     "name": "stdout",
     "output_type": "stream",
     "text": [
      "Starting kit application with the fillowing args:  ['/home/ksterx/.local/share/ov/pkg/isaac_sim-2022.1.1/exts/omni.isaac.kit/omni/isaac/kit/simulation_app.py', '/home/ksterx/.local/share/ov/pkg/isaac_sim-2022.1.1/apps/omni.isaac.sim.python.kit', '--/app/tokens/exe-path=/home/ksterx/.local/share/ov/pkg/isaac_sim-2022.1.1/kit', '--/persistent/app/viewport/displayOptions=3094', '--/rtx/materialDb/syncLoads=True', '--/rtx/hydra/materialSyncLoads=True--/omni.kit.plugin/syncUsdLoads=True', '--/app/renderer/resolution/width=1280', '--/app/renderer/resolution/height=720', '--/app/window/width=1440', '--/app/window/height=900', '--/renderer/multiGpu/enabled=True', '--ext-folder', '/home/ksterx/.local/share/ov/pkg/isaac_sim-2022.1.1/exts', '--ext-folder', '/home/ksterx/.local/share/ov/pkg/isaac_sim-2022.1.1/apps', '--/physics/cudaDevice=0', '--portable', '--no-window']\n",
      "Passing the following args to the base kit application:  ['-f', '/home/ksterx/.local/share/jupyter/runtime/kernel-b55301b2-dac6-4145-97ac-59259e5599a3.json']\n",
      "[Warning] [omni.kit.app.plugin] No crash reporter present, dumps uploading isn't available.\n",
      "[Info] [carb] Logging to file: /home/ksterx/.local/share/ov/pkg/isaac_sim-2022.1.1/kit/logs/Kit/Isaac-Sim/2022.1/kit_20230308_153704.log\n",
      "2023-03-08 06:37:04 [3ms] [Warning] [omni.ext.plugin] [ext: omni.drivesim.sensors.nv.lidar] Extensions config 'extension.toml' doesn't exist '/home/ksterx/.local/share/ov/pkg/isaac_sim-2022.1.1/exts/omni.drivesim.sensors.nv.lidar' or '/home/ksterx/.local/share/ov/pkg/isaac_sim-2022.1.1/exts/omni.drivesim.sensors.nv.lidar/config'\n",
      "[0.116s] [ext: omni.stats-0.0.0] startup\n",
      "[0.127s] [ext: omni.gpu_foundation-0.0.0] startup\n",
      "2023-03-08 06:37:05 [125ms] [Warning] [carb] FrameworkImpl::setDefaultPlugin(client: omni.gpu_foundation_factory.plugin, desc : [carb::graphics::Graphics v2.5], plugin : carb.graphics-vulkan.plugin) failed. Plugin selection is locked, because the interface was previously acquired by: \n",
      "[0.132s] [ext: carb.windowing.plugins-1.0.0] startup\n",
      "[0.139s] [ext: omni.assets.plugins-0.0.0] startup\n",
      "[0.140s] [ext: omni.kit.renderer.init-0.0.0] startup\n",
      "\n",
      "|---------------------------------------------------------------------------------------------|\n",
      "| Driver Version: 515.65.1      | Graphics API: Vulkan\n",
      "|=============================================================================================|\n",
      "| GPU | Name                             | Active | LDA | GPU Memory | Vendor-ID | LUID       |\n",
      "|     |                                  |        |     |            | Device-ID | UUID       |\n",
      "|---------------------------------------------------------------------------------------------|\n",
      "| 0   | NVIDIA GeForce RTX 3060          | Yes: 0 |     | 12534   MB | 10de      | 0          |\n",
      "|     |                                  |        |     |            | 2504      | ffe8fb09.. |\n",
      "|=============================================================================================|\n",
      "| OS: Linux home-ubuntu, Version: 5.19.0-35-generic\n",
      "| XServer Vendor: The X.Org Foundation, XServer Version: 12101003 (1.21.1.3)\n",
      "| Processor: 12th Gen Intel(R) Core(TM) i7-12700 | Cores: Unknown | Logical: 20\n",
      "|---------------------------------------------------------------------------------------------|\n",
      "| Total Memory (MB): 31839 | Free Memory: 12908\n",
      "| Total Page/Swap (MB): 2047 | Free Page/Swap: 2047\n",
      "|---------------------------------------------------------------------------------------------|\n",
      "2023-03-08 06:37:05 [678ms] [Warning] [carb.cudainterop.plugin] On Linux only, CUDA and the display driver does not support IOMMU-enabled bare-metal PCIe peer to peer memory copy.\n",
      "However, CUDA and the display driver does support IOMMU via VM pass through. As a consequence, users on Linux,\n",
      "when running on a native bare metal system, should disable the IOMMU. The IOMMU should be enabled and the VFIO driver\n",
      "be used as a PCIe pass through for virtual machines.\n",
      "[0.694s] [ext: omni.kit.pipapi-0.0.0] startup\n",
      "[0.701s] [ext: omni.kit.pip_archive-0.0.0] startup\n",
      "[0.704s] [ext: omni.isaac.core_archive-1.2.0] startup\n",
      "[0.798s] [ext: omni.usd.config-1.0.0] startup\n",
      "[0.804s] [ext: omni.usd.libs-1.0.0] startup\n",
      "[0.904s] [ext: omni.kit.pip_torch-1_11_0-0.1.3] startup\n",
      "[0.924s] [ext: omni.isaac.ml_archive-1.1.0] startup\n",
      "[0.951s] [ext: omni.kit.loop-isaac-0.1.0] startup\n",
      "[0.952s] [ext: omni.kit.async_engine-0.0.0] startup\n",
      "[0.953s] [ext: omni.appwindow-1.0.0] startup\n",
      "[0.955s] [ext: omni.client-0.1.0] startup\n",
      "[0.962s] [ext: omni.kit.test-0.0.0] startup\n",
      "[0.963s] [ext: omni.kit.renderer.core-0.0.0] startup\n",
      "[1.009s] [ext: omni.ui-2.10.3] startup\n",
      "[1.020s] [ext: carb.audio-0.1.0] startup\n",
      "[1.021s] [ext: omni.kit.mainwindow-0.0.0] startup\n",
      "[1.023s] [ext: omni.uiaudio-1.0.0] startup\n",
      "[1.024s] [ext: omni.kit.uiapp-0.0.0] startup\n",
      "[1.024s] [ext: omni.usd.schema.physics-1.0.0] startup\n",
      "[1.076s] [ext: omni.usd.schema.audio-0.0.0] startup\n",
      "[1.081s] [ext: omni.usd.schema.semantics-0.0.0] startup\n",
      "[1.088s] [ext: omni.usd.schema.omnigraph-1.0.0] startup\n",
      "[1.094s] [ext: omni.usd.schema.anim-0.0.0] startup\n",
      "[1.122s] [ext: omni.kit.commands-1.2.2] startup\n",
      "[1.125s] [ext: omni.timeline-1.0.2] startup\n",
      "[1.127s] [ext: omni.hydra.scene_delegate-0.2.0] startup\n",
      "[1.132s] [ext: omni.kit.audiodeviceenum-1.0.0] startup\n",
      "[1.134s] [ext: omni.usd-1.5.3] startup\n",
      "[1.178s] [ext: omni.kit.asset_converter-1.2.31] startup\n",
      "[1.195s] [ext: omni.usd.schema.physx-0.0.0] startup\n",
      "[1.218s] [ext: omni.usd.schema.isaac-0.2.0] startup\n",
      "[1.251s] [ext: omni.usd.schema.forcefield-0.0.0] startup\n",
      "[1.257s] [ext: omni.kvdb-0.0.0] startup\n",
      "[1.260s] [ext: omni.usdphysics-1.4.15] startup\n",
      "[1.263s] [ext: omni.graph.tools-1.4.0] startup\n",
      "[1.278s] [ext: omni.localcache-0.0.0] startup\n",
      "[1.281s] [ext: omni.kit.stage_templates-1.1.2] startup\n",
      "[1.282s] [ext: omni.convexdecomposition-1.4.15] startup\n",
      "[1.285s] [ext: omni.physics.tensors-0.1.0] startup\n",
      "[1.290s] [ext: omni.physx-1.4.15-5.1] startup\n",
      "2023-03-08 06:37:06 [1,297ms] [Warning] [omni.kvdb.plugin] wasn't able to load the meta database, trying to repair it ...\n",
      "2023-03-08 06:37:06 [1,340ms] [Warning] [omni.kvdb.plugin] repair failed\n",
      "[1.346s] [ext: omni.graph.core-2.29.1] startup\n",
      "[1.351s] [ext: omni.kit.menu.utils-1.2.11] startup\n",
      "[1.359s] [ext: omni.physx.tensors-0.1.0] startup\n",
      "[1.363s] [ext: omni.graph-1.23.0] startup\n",
      "[1.399s] [ext: omni.kit.numpy.common-0.1.0] startup\n",
      "[1.401s] [ext: omni.kit.window.script_editor-1.6.2] startup\n",
      "[1.409s] [ext: omni.kit.search_core-1.0.2] startup\n",
      "[1.410s] [ext: omni.isaac.dynamic_control-1.1.0] startup\n",
      "[1.416s] [ext: omni.kit.renderer.capture-0.0.0] startup\n",
      "[1.418s] [ext: omni.kit.widget.filebrowser-2.2.27] startup\n",
      "[1.423s] [ext: omni.kit.widget.path_field-2.0.3] startup\n",
      "[1.424s] [ext: omni.kit.notification_manager-1.0.5] startup\n",
      "[1.426s] [ext: omni.kit.widget.versioning-1.3.8] startup\n",
      "[1.427s] [ext: omni.kit.widget.browser_bar-2.0.3] startup\n",
      "[1.428s] [ext: omni.kit.window.popup_dialog-2.0.8] startup\n",
      "[1.430s] [ext: omni.mdl.neuraylib-0.1.0] startup\n",
      "[1.433s] [ext: omni.kit.window.filepicker-2.4.30] startup\n"
     ]
    },
    {
     "name": "stderr",
     "output_type": "stream",
     "text": [
      "OmniAssetFileFormat\n"
     ]
    },
    {
     "name": "stdout",
     "output_type": "stream",
     "text": [
      "Warp initialized:\n",
      "   Version: 0.2.2\n",
      "   CUDA device: NVIDIA GeForce RTX 3060\n",
      "   Kernel cache: /home/ksterx/.cache/warp/0.2.2\n",
      "[1.470s] [ext: omni.kit.menu.create-1.0.2] startup\n",
      "[1.471s] [ext: omni.mdl-0.1.0] startup\n",
      "[1.527s] [ext: omni.kit.window.file_importer-1.0.4] startup\n",
      "[1.527s] [ext: omni.kit.window.file_exporter-1.0.4] startup\n",
      "[1.528s] [ext: omni.kit.material.library-1.3.10] startup\n",
      "[1.530s] [ext: omni.kit.window.drop_support-1.0.0] startup\n",
      "[1.530s] [ext: omni.kit.window.file-1.3.16] startup\n",
      "[1.532s] [ext: omni.kit.context_menu-1.3.9] startup\n",
      "[1.534s] [ext: omni.kit.window.property-1.6.3] startup\n",
      "[1.535s] [ext: omni.kit.window.content_browser-2.4.28] startup\n",
      "[1.543s] [ext: omni.kit.widget.stage-2.6.15] startup\n",
      "[1.545s] [ext: omni.isaac.version-1.0.0] startup\n",
      "[1.546s] [ext: omni.kit.property.usd-3.14.9] startup\n",
      "[1.569s] [ext: omni.kit.viewport.legacy_gizmos-1.0.0] startup\n",
      "[1.572s] [ext: omni.hydra.rtx-0.1.0] startup\n",
      "[1.587s] [ext: omni.renderer-rtx-0.0.0] startup\n",
      "[1.590s] [ext: omni.hydra.engine.stats-1.0.0] startup\n",
      "[1.595s] [ext: omni.debugdraw-0.1.0] startup\n",
      "[1.599s] [ext: omni.kit.widget.settings-1.0.0] startup\n",
      "[1.601s] [ext: omni.kit.window.viewport-0.0.0] startup\n",
      "[2.131s] [ext: omni.kit.widget.prompt-1.0.1] startup\n",
      "[2.131s] [ext: omni.kit.widget.graph-1.4.3] startup\n",
      "[2.136s] [ext: omni.kit.window.preferences-1.2.1] startup\n",
      "[2.160s] [ext: omni.ui_query-1.1.1] startup\n",
      "[2.162s] [ext: omni.graph.ui-1.6.1] startup\n",
      "[2.178s] [ext: omni.kit.ui_test-1.2.2] startup\n",
      "[2.180s] [ext: omni.graph.action-1.18.0] startup\n",
      "[2.188s] [ext: omni.kit.widget.searchfield-1.0.6] startup\n",
      "[2.189s] [ext: omni.kit.usd_undo-0.1.0] startup\n",
      "[2.190s] [ext: omni.graph.scriptnode-0.5.0] startup\n",
      "[2.191s] [ext: omni.physx.commands-1.4.15-5.1] startup\n",
      "[2.195s] [ext: omni.graph.nodes-1.26.0] startup\n",
      "[2.205s] [ext: omni.command.usd-1.0.1] startup\n",
      "[2.207s] [ext: omni.kit.window.extensions-1.1.0] startup\n",
      "[2.211s] [ext: omni.syntheticdata-0.2.1] startup\n",
      "[2.236s] [ext: omni.kit.primitive.mesh-1.0.0] startup\n",
      "[2.238s] [ext: omni.warp-0.2.2] startup\n",
      "[2.630s] [ext: omni.isaac.ui-0.2.1] startup\n",
      "[2.632s] [ext: omni.replicator.core-1.4.3] startup\n",
      "[2.770s] [ext: omni.isaac.core-1.24.3] startup\n",
      "[2.833s] [ext: omni.physx.ui-1.4.15-5.1] startup\n",
      "[2.879s] [ext: omni.kit.property.material-1.8.5] startup\n",
      "[2.881s] [ext: omni.kit.window.toolbar-1.2.4] startup\n",
      "[2.885s] [ext: omni.isaac.core_nodes-0.13.0] startup\n",
      "[2.893s] [ext: omni.physx.demos-1.4.15-5.1] startup\n",
      "[2.895s] [ext: omni.kit.property.physx-0.1.0] startup\n",
      "2023-03-08 06:37:07 [2,931ms] [Warning] [omni.physx.plugin] Deprecated: getSimulationEventStream is deprecated, please use getSimulationEventStreamV2\n",
      "[2.938s] [ext: omni.physx.tests-1.4.15-5.1] startup\n",
      "[3.097s] [ext: omni.isaac.wheeled_robots-0.5.8] startup\n",
      "[3.104s] [ext: omni.kit.menu.common-1.0.0] startup\n",
      "[3.105s] [ext: omni.physx.vehicle-1.4.15-5.1] startup\n",
      "[3.114s] [ext: omni.physx.cct-1.4.15-5.1] startup\n",
      "[3.162s] [ext: omni.physx.camera-1.4.15-5.1] startup\n",
      "[3.167s] [ext: omni.kit.widget.stage_icons-1.0.2] startup\n",
      "[3.168s] [ext: omni.ui.scene-1.5.0] startup\n",
      "[3.172s] [ext: omni.physx.bundle-1.4.15-5.1] startup\n",
      "[3.173s] [ext: omni.kit.window.stage-2.3.7] startup\n",
      "[3.175s] [ext: omni.replicator.composer-1.1.3] startup\n",
      "[3.186s] [ext: omni.isaac.lula-1.1.0] startup\n",
      "[3.192s] [ext: omni.rtx.window.settings-0.6.1] startup\n",
      "[3.195s] [ext: omni.isaac.surface_gripper-0.1.2] startup\n",
      "[3.199s] [ext: omni.isaac.motion_planning-0.2.0] startup\n",
      "[3.204s] [ext: omni.rtx.settings.core-0.5.5] startup\n",
      "[3.207s] [ext: omni.isaac.manipulators-1.0.1] startup\n",
      "[3.208s] [ext: omni.isaac.motion_generation-3.6.1] startup\n",
      "[3.211s] [ext: omni.kit.widget.zoombar-1.0.3] startup\n",
      "[3.212s] [ext: omni.kit.graph.delegate.default-1.0.15] startup\n",
      "[3.213s] [ext: omni.isaac.franka-0.3.0] startup\n",
      "[3.214s] [ext: omni.kit.browser.core-2.0.12] startup\n",
      "[3.216s] [ext: omni.kit.graph.editor.core-1.3.3] startup\n",
      "[3.218s] [ext: omni.kit.graph.usd.commands-1.1.0] startup\n",
      "[3.219s] [ext: omni.kit.browser.folder.core-1.1.13] startup\n",
      "[3.220s] [ext: omni.kit.graph.widget.variables-2.0.2] startup\n",
      "[3.221s] [ext: omni.kit.graph.delegate.modern-1.6.0] startup\n",
      "[3.222s] [ext: omni.kit.selection-0.1.0] startup\n",
      "[3.223s] [ext: omni.isaac.debug_draw-0.Saving a temp livesync stage at  omniverse://localhost/Users/ksterx/temp_jupyter_stage.usd  ...Done.\n"
     ]
    }
   ],
   "source": [
    "import getpass\n",
    "\n",
    "user = getpass.getuser()\n",
    "from omni.isaac.kit import SimulationApp\n",
    "\n",
    "user_dir = f\"omniverse://localhost/Users/{user}\"\n",
    "\n",
    "try:\n",
    "    simulation_app.close()\n",
    "except NameError:\n",
    "    simulation_app = SimulationApp({\"livesync_usd\": f\"{user_dir}/temp_jupyter_stage.usd\"})"
   ]
  },
  {
   "cell_type": "code",
   "execution_count": 2,
   "id": "ebd6b817",
   "metadata": {
    "tags": []
   },
   "outputs": [],
   "source": [
    "from omni.isaac.core.utils.stage import add_reference_to_stage\n",
    "from omni.isaac.core import SimulationContext"
   ]
  },
  {
   "cell_type": "code",
   "execution_count": 3,
   "id": "c6d47e5e",
   "metadata": {
    "tags": []
   },
   "outputs": [],
   "source": [
    "from omni.isaac.core import World\n",
    "from omni.isaac.core.objects import DynamicCuboid\n",
    "from omni.isaac.core.robots import Robot\n",
    "from omni.isaac.core.utils.nucleus import get_assets_root_path\n",
    "\n",
    "\n",
    "\n",
    "world = World(stage_units_in_meters=1.0)\n",
    "# world.scene.add_default_ground_plane()\n",
    "# world.render()\n",
    "# A render/ step or an update call is needed to reflect the changes to the opened USD in Isaac Sim GUI\n",
    "#  Note: avoid pressing play/ pause or stop in the GUI in this workflow."
   ]
  },
  {
   "cell_type": "code",
   "execution_count": 4,
   "id": "dae82e44-f172-4443-a0c2-1839b1a82126",
   "metadata": {
    "tags": []
   },
   "outputs": [],
   "source": [
    "asset_path = get_assets_root_path() + \"/Isaac/Robots/Franka/franka_alt_fingers.usd\"\n",
    "add_reference_to_stage(usd_path=asset_path, prim_path=\"/World/Franka_1\")\n",
    "# robo = Robot(prim_path=\"/World/Franka_1\", name=\"franka1\")\n",
    "# world.scene.add(robo)\n",
    "\n",
    "world.render()"
   ]
  },
  {
   "cell_type": "code",
   "execution_count": 5,
   "id": "24d7d1aa-0afb-4047-b82f-8cf9c84ef54e",
   "metadata": {
    "tags": []
   },
   "outputs": [],
   "source": [
    "add_reference_to_stage(usd_path=user_dir + \"particle_cloth.usd\", prim_path=\"/World/Ggss\")\n",
    "world.render()"
   ]
  },
  {
   "cell_type": "code",
   "execution_count": null,
   "id": "0355b0b3",
   "metadata": {
    "tags": []
   },
   "outputs": [],
   "source": [
    "add_reference_to_stage(usd_path=user_dir + \"Surgym/Asset/ground.usd\", prim_path=\"/World/Ground\")\n",
    "world.render()"
   ]
  },
  {
   "cell_type": "code",
   "execution_count": null,
   "id": "49f05849",
   "metadata": {},
   "outputs": [],
   "source": [
    "stage = simulation_app.context.get_stage()"
   ]
  },
  {
   "cell_type": "code",
   "execution_count": null,
   "id": "914df2fe",
   "metadata": {},
   "outputs": [],
   "source": [
    "stage"
   ]
  },
  {
   "cell_type": "code",
   "execution_count": null,
   "id": "5b821c6d",
   "metadata": {},
   "outputs": [],
   "source": [
    "stage.GetPseudoRoot()"
   ]
  },
  {
   "cell_type": "code",
   "execution_count": null,
   "id": "0d0ca291",
   "metadata": {},
   "outputs": [],
   "source": [
    "root = stage.GetPrimAtPath(\"/World\")"
   ]
  },
  {
   "cell_type": "code",
   "execution_count": null,
   "id": "3e33e444",
   "metadata": {},
   "outputs": [],
   "source": [
    "root"
   ]
  },
  {
   "cell_type": "code",
   "execution_count": null,
   "id": "249051c2",
   "metadata": {},
   "outputs": [],
   "source": [
    "root.GetAllChildren()"
   ]
  },
  {
   "cell_type": "code",
   "execution_count": null,
   "id": "0607d8c6",
   "metadata": {
    "tags": []
   },
   "outputs": [],
   "source": []
  },
  {
   "cell_type": "code",
   "execution_count": null,
   "id": "bd2ef575",
   "metadata": {
    "tags": []
   },
   "outputs": [],
   "source": []
  },
  {
   "cell_type": "code",
   "execution_count": null,
   "id": "7bce68f3",
   "metadata": {
    "tags": []
   },
   "outputs": [],
   "source": [
    "robo?"
   ]
  },
  {
   "cell_type": "code",
   "execution_count": null,
   "id": "5acd3e6d",
   "metadata": {
    "tags": []
   },
   "outputs": [],
   "source": []
  },
  {
   "cell_type": "code",
   "execution_count": null,
   "id": "8c8fa892-bf41-4ac0-a37e-29089280cfe0",
   "metadata": {},
   "outputs": [],
   "source": []
  }
 ],
 "metadata": {
  "kernelspec": {
   "display_name": "Isaac Sim Python 3",
   "language": "python",
   "name": "isaac_sim_python3"
  },
  "language_info": {
   "codemirror_mode": {
    "name": "ipython",
    "version": 3
   },
   "file_extension": ".py",
   "mimetype": "text/x-python",
   "name": "python",
   "nbconvert_exporter": "python",
   "pygments_lexer": "ipython3",
   "version": "3.7.13"
  }
 },
 "nbformat": 4,
 "nbformat_minor": 5
}
