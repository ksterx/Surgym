{
 "cells": [
  {
   "cell_type": "code",
   "execution_count": null,
   "id": "f639c7a9",
   "metadata": {},
   "outputs": [],
   "source": [
    "# Copyright (c) 2020-2021, NVIDIA CORPORATION.  All rights reserved.\n",
    "#\n",
    "# NVIDIA CORPORATION and its licensors retain all intellectual property\n",
    "# and proprietary rights in and to this software, related documentation\n",
    "# and any modifications thereto.  Any use, reproduction, disclosure or\n",
    "# distribution of this software and related documentation without an express\n",
    "# license agreement from NVIDIA CORPORATION is strictly prohibited.\n"
   ]
  },
  {
   "cell_type": "code",
   "execution_count": 1,
   "id": "420e8940",
   "metadata": {},
   "outputs": [
    {
     "name": "stdout",
     "output_type": "stream",
     "text": [
      "Starting kit application with the fillowing args:  ['/home/ksterx/.local/share/ov/pkg/isaac_sim-2022.1.1/exts/omni.isaac.kit/omni/isaac/kit/simulation_app.py', '/home/ksterx/.local/share/ov/pkg/isaac_sim-2022.1.1/apps/omni.isaac.sim.python.kit', '--/app/tokens/exe-path=/home/ksterx/.local/share/ov/pkg/isaac_sim-2022.1.1/kit', '--/persistent/app/viewport/displayOptions=3094', '--/rtx/materialDb/syncLoads=True', '--/rtx/hydra/materialSyncLoads=True--/omni.kit.plugin/syncUsdLoads=True', '--/app/renderer/resolution/width=1280', '--/app/renderer/resolution/height=720', '--/app/window/width=1440', '--/app/window/height=900', '--/renderer/multiGpu/enabled=True', '--ext-folder', '/home/ksterx/.local/share/ov/pkg/isaac_sim-2022.1.1/exts', '--ext-folder', '/home/ksterx/.local/share/ov/pkg/isaac_sim-2022.1.1/apps', '--/physics/cudaDevice=0', '--portable', '--no-window']\n",
      "Passing the following args to the base kit application:  ['-f', '/home/ksterx/.local/share/jupyter/runtime/kernel-ddbaddff-d3ed-409b-952d-05a3d8dd1b85.json']\n",
      "[Warning] [omni.kit.app.plugin] No crash reporter present, dumps uploading isn't available.\n",
      "[Info] [carb] Logging to file: /home/ksterx/.local/share/ov/pkg/isaac_sim-2022.1.1/kit/logs/Kit/Isaac-Sim/2022.1/kit_20230307_113238.log\n",
      "2023-03-07 02:32:38 [4ms] [Warning] [omni.ext.plugin] [ext: omni.drivesim.sensors.nv.lidar] Extensions config 'extension.toml' doesn't exist '/home/ksterx/.local/share/ov/pkg/isaac_sim-2022.1.1/exts/omni.drivesim.sensors.nv.lidar' or '/home/ksterx/.local/share/ov/pkg/isaac_sim-2022.1.1/exts/omni.drivesim.sensors.nv.lidar/config'\n",
      "[0.113s] [ext: omni.stats-0.0.0] startup\n",
      "[0.137s] [ext: omni.gpu_foundation-0.0.0] startup\n",
      "2023-03-07 02:32:38 [135ms] [Warning] [carb] FrameworkImpl::setDefaultPlugin(client: omni.gpu_foundation_factory.plugin, desc : [carb::graphics::Graphics v2.5], plugin : carb.graphics-vulkan.plugin) failed. Plugin selection is locked, because the interface was previously acquired by: \n",
      "[0.142s] [ext: carb.windowing.plugins-1.0.0] startup\n",
      "[0.147s] [ext: omni.assets.plugins-0.0.0] startup\n",
      "[0.147s] [ext: omni.kit.renderer.init-0.0.0] startup\n",
      "\n",
      "|---------------------------------------------------------------------------------------------|\n",
      "| Driver Version: 515.65.1      | Graphics API: Vulkan\n",
      "|=============================================================================================|\n",
      "| GPU | Name                             | Active | LDA | GPU Memory | Vendor-ID | LUID       |\n",
      "|     |                                  |        |     |            | Device-ID | UUID       |\n",
      "|---------------------------------------------------------------------------------------------|\n",
      "| 0   | NVIDIA GeForce RTX 3060          | Yes: 0 |     | 12534   MB | 10de      | 0          |\n",
      "|     |                                  |        |     |            | 2504      | ffe8fb09.. |\n",
      "|=============================================================================================|\n",
      "| OS: Linux home-ubuntu, Version: 5.19.0-35-generic\n",
      "| XServer Vendor: The X.Org Foundation, XServer Version: 12101003 (1.21.1.3)\n",
      "| Processor: 12th Gen Intel(R) Core(TM) i7-12700 | Cores: Unknown | Logical: 20\n",
      "|---------------------------------------------------------------------------------------------|\n",
      "| Total Memory (MB): 31839 | Free Memory: 13240\n",
      "| Total Page/Swap (MB): 2047 | Free Page/Swap: 2047\n",
      "|---------------------------------------------------------------------------------------------|\n",
      "2023-03-07 02:32:39 [667ms] [Warning] [carb.cudainterop.plugin] On Linux only, CUDA and the display driver does not support IOMMU-enabled bare-metal PCIe peer to peer memory copy.\n",
      "However, CUDA and the display driver does support IOMMU via VM pass through. As a consequence, users on Linux,\n",
      "when running on a native bare metal system, should disable the IOMMU. The IOMMU should be enabled and the VFIO driver\n",
      "be used as a PCIe pass through for virtual machines.\n",
      "[0.682s] [ext: omni.kit.pipapi-0.0.0] startup\n",
      "[0.688s] [ext: omni.kit.pip_archive-0.0.0] startup\n",
      "[0.691s] [ext: omni.isaac.core_archive-1.2.0] startup\n",
      "[0.759s] [ext: omni.usd.config-1.0.0] startup\n",
      "[0.761s] [ext: omni.usd.libs-1.0.0] startup\n",
      "[0.856s] [ext: omni.kit.pip_torch-1_11_0-0.1.3] startup\n",
      "[0.874s] [ext: omni.isaac.ml_archive-1.1.0] startup\n",
      "[0.900s] [ext: omni.kit.loop-isaac-0.1.0] startup\n",
      "[0.901s] [ext: omni.kit.async_engine-0.0.0] startup\n",
      "[0.902s] [ext: omni.appwindow-1.0.0] startup\n",
      "[0.904s] [ext: omni.client-0.1.0] startup\n",
      "[0.911s] [ext: omni.kit.test-0.0.0] startup\n",
      "[0.911s] [ext: omni.kit.renderer.core-0.0.0] startup\n",
      "[0.956s] [ext: omni.ui-2.10.3] startup\n",
      "[0.967s] [ext: carb.audio-0.1.0] startup\n",
      "[0.968s] [ext: omni.kit.mainwindow-0.0.0] startup\n",
      "[0.970s] [ext: omni.uiaudio-1.0.0] startup\n",
      "[0.971s] [ext: omni.kit.uiapp-0.0.0] startup\n",
      "[0.971s] [ext: omni.usd.schema.physics-1.0.0] startup\n",
      "[1.024s] [ext: omni.usd.schema.audio-0.0.0] startup\n",
      "[1.029s] [ext: omni.usd.schema.semantics-0.0.0] startup\n",
      "[1.036s] [ext: omni.usd.schema.omnigraph-1.0.0] startup\n",
      "[1.042s] [ext: omni.usd.schema.anim-0.0.0] startup\n",
      "[1.070s] [ext: omni.kit.commands-1.2.2] startup\n",
      "[1.074s] [ext: omni.timeline-1.0.2] startup\n",
      "[1"
     ]
    },
    {
     "name": "stderr",
     "output_type": "stream",
     "text": [
      "OmniAssetFileFormat\n"
     ]
    },
    {
     "name": "stdout",
     "output_type": "stream",
     "text": [
      ".075s] [ext: omni.hydra.scene_delegate-0.2.0] startup\n",
      "[1.081s] [ext: omni.kit.audiodeviceenum-1.0.0] startup\n",
      "[1.082s] [ext: omni.usd-1.5.3] startup\n",
      "[1.121s] [ext: omni.kit.asset_converter-1.2.31] startup\n",
      "[1.131s] [ext: omni.usd.schema.physx-0.0.0] startup\n",
      "[1.151s] [ext: omni.usd.schema.isaac-0.2.0] startup\n",
      "[1.179s] [ext: omni.usd.schema.forcefield-0.0.0] startup\n",
      "[1.186s] [ext: omni.kvdb-0.0.0] startup\n",
      "[1.188s] [ext: omni.usdphysics-1.4.15] startup\n",
      "[1.190s] [ext: omni.graph.tools-1.4.0] startup\n",
      "[1.206s] [ext: omni.localcache-0.0.0] startup\n",
      "[1.208s] [ext: omni.kit.stage_templates-1.1.2] startup\n",
      "[1.209s] [ext: omni.convexdecomposition-1.4.15] startup\n",
      "[1.211s] [ext: omni.physics.tensors-0.1.0] startup\n",
      "[1.217s] [ext: omni.physx-1.4.15-5.1] startup\n",
      "2023-03-07 02:32:39 [1,222ms] [Warning] [omni.kvdb.plugin] wasn't able to load the meta database, trying to repair it ...\n",
      "2023-03-07 02:32:39 [1,258ms] [Warning] [omni.kvdb.plugin] repair failed\n",
      "[1.264s] [ext: omni.graph.core-2.29.1] startup\n",
      "[1.267s] [ext: omni.kit.menu.utils-1.2.11] startup\n",
      "[1.275s] [ext: omni.physx.tensors-0.1.0] startup\n",
      "[1.279s] [ext: omni.graph-1.23.0] startup\n",
      "[1.313s] [ext: omni.kit.numpy.common-0.1.0] startup\n",
      "[1.315s] [ext: omni.kit.window.script_editor-1.6.2] startup\n",
      "[1.323s] [ext: omni.kit.search_core-1.0.2] startup\n",
      "[1.324s] [ext: omni.isaac.dynamic_control-1.1.0] startup\n",
      "[1.329s] [ext: omni.kit.renderer.capture-0.0.0] startup\n",
      "[1.331s] [ext: omni.kit.widget.filebrowser-2.2.27] startup\n",
      "[1.336s] [ext: omni.kit.widget.path_field-2.0.3] startup\n",
      "[1.337s] [ext: omni.kit.notification_manager-1.0.5] startup\n",
      "[1.339s] [ext: omni.kit.widget.versioning-1.3.8] startup\n",
      "[1.340s] [ext: omni.kit.widget.browser_bar-2.0.3] startup\n",
      "[1.341s] [ext: omni.kit.window.popup_dialog-2.0.8] startup\n",
      "[1.343s] [ext: omni.mdl.neuraylib-0.1.0] startup\n",
      "[1.345s] [ext: omni.kit.window.filepicker-2.4.30] startup\n",
      "Warp initialized:\n",
      "   Version: 0.2.2\n",
      "   CUDA device: NVIDIA GeForce RTX 3060\n",
      "   Kernel cache: /home/ksterx/.cache/warp/0.2.2\n",
      "[1.382s] [ext: omni.kit.menu.create-1.0.2] startup\n",
      "[1.383s] [ext: omni.mdl-0.1.0] startup\n",
      "[1.429s] [ext: omni.kit.window.file_importer-1.0.4] startup\n",
      "[1.430s] [ext: omni.kit.window.file_exporter-1.0.4] startup\n",
      "[1.431s] [ext: omni.kit.material.library-1.3.10] startup\n",
      "[1.433s] [ext: omni.kit.window.drop_support-1.0.0] startup\n",
      "[1.433s] [ext: omni.kit.window.file-1.3.16] startup\n",
      "[1.435s] [ext: omni.kit.context_menu-1.3.9] startup\n",
      "[1.437s] [ext: omni.kit.window.property-1.6.3] startup\n",
      "[1.438s] [ext: omni.kit.window.content_browser-2.4.28] startup\n",
      "[1.445s] [ext: omni.kit.widget.stage-2.6.15] startup\n",
      "[1.449s] [ext: omni.isaac.version-1.0.0] startup\n",
      "[1.449s] [ext: omni.kit.property.usd-3.14.9] startup\n",
      "[1.473s] [ext: omni.kit.viewport.legacy_gizmos-1.0.0] startup\n",
      "[1.475s] [ext: omni.hydra.rtx-0.1.0] startup\n",
      "[1.482s] [ext: omni.renderer-rtx-0.0.0] startup\n",
      "[1.483s] [ext: omni.hydra.engine.stats-1.0.0] startup\n",
      "[1.487s] [ext: omni.debugdraw-0.1.0] startup\n",
      "[1.491s] [ext: omni.kit.widget.settings-1.0.0] startup\n",
      "[1.492s] [ext: omni.kit.window.viewport-0.0.0] startup\n",
      "[2.005s] [ext: omni.kit.widget.prompt-1.0.1] startup\n",
      "[2.006s] [ext: omni.kit.widget.graph-1.4.3] startup\n",
      "[2.010s] [ext: omni.kit.window.preferences-1.2.1] startup\n",
      "[2.035s] [ext: omni.ui_query-1.1.1] startup\n",
      "[2.036s] [ext: omni.graph.ui-1.6.1] startup\n",
      "[2.052s] [ext: omni.kit.ui_test-1.2.2] startup\n",
      "[2.054s] [ext: omni.graph.action-1.18.0] startup\n",
      "[2.062s] [ext: omni.kit.widget.searchfield-1.0.6] startup\n",
      "[2.063s] [ext: omni.kit.usd_undo-0.1.0] startup\n",
      "[2.064s] [ext: omni.graph.scriptnode-0.5.0] startup\n",
      "[2.066s] [ext: omni.physx.commands-1.4.15-5.1] startup\n",
      "[2.069s] [ext: omni.graph.nodes-1.26.0] startup\n",
      "[2.079s] [ext: omni.command.usd-1.0.1] startup\n",
      "[2.081s] [ext: omni.kit.window.extensions-1.1.0] startup\n",
      "[2.085s] [ext: omni.syntheticdata-0.2.1] startup\n",
      "[2.110s] [ext: omni.kit.primitive.mesh-1.0.0] startup\n",
      "[2.112s] [ext: omni.warp-0.2.2] startup\n",
      "[2.505s] [ext: omni.isaac.ui-0.2.1] startup\n",
      "[2.506s] [ext: omni.replicator.core-1.4.3] startup\n",
      "[2.645s] [ext: omni.isaac.core-1.24.3] startup\n",
      "[2.709s] [ext: omni.physx.ui-1.4.15-5.1] startup\n",
      "[2.755s] [ext: omni.kit.property.material-1.8.5] startup\n",
      "[2.757s] [ext: omni.kit.window.toolbar-1.2.4] startup\n",
      "[2.761s] [ext: omni.isaac.core_nodes-0.13.0] startup\n",
      "[2.770s] [ext: omni.physx.demos-1.4.15-5.1] startup\n",
      "[2.772s] [ext: omni.kit.property.physx-0.1.0] startup\n",
      "2023-03-07 02:32:41 [2,809ms] [Warning] [omni.physx.plugin] Deprecated: getSimulationEventStream is deprecated, please use getSimulationEventStreamV2\n",
      "[2.816s] [ext: omni.physx.tests-1.4.15-5.1] startup\n",
      "[2.982s] [ext: omni.isaac.wheeled_robots-0.5.8] startup\n",
      "[2.990s] [ext: omni.kit.menu.common-1.0.0] startup\n",
      "[2.991s] [ext: omni.physx.vehicle-1.4.15-5.1] startup\n",
      "[2.999s] [ext: omni.physx.cct-1.4.15-5.1] startup\n",
      "[3.051s] [ext: omni.physx.camera-1.4.15-5.1] startup\n",
      "[3.057s] [ext: omni.kit.widget.stage_icons-1.0.2] startup\n",
      "[3.057s] [ext: omni.ui.scene-1.5.0] startup\n",
      "[3.062s] [ext: omni.physx.bundle-1.4.15-5.1] startup\n",
      "[3.062s] [ext: omni.kit.window.stage-2.3.7] startup\n",
      "[3.064s] [ext: omni.replicator.composer-1.1.3] startup\n",
      "[3.074s] [ext: omni.isaac.lula-1.1.0] startup\n",
      "[3.081s] [ext: omni.rtx.window.settings-0.6.1] startup\n",
      "[3.085s] [ext: omni.isaac.surface_gripper-0.1.2] startup\n",
      "[3.088s] [ext: omni.isaac.motion_planning-0.2.0] startup\n",
      "[3.093s] [ext: omni.rtx.settings.core-0.5.5] startup\n",
      "[3.097s] [ext: omni.isaac.manipulators-1.0.1] startup\n",
      "[3.098s] [ext: omni.isaac.motion_generation-3.6.1] startup\n",
      "[3.101s] [ext: omni.kit.widget.zoombar-1.0.3] startup\n",
      "[3.101s] [ext: omni.kit.graph.delegate.default-1.0.15] startup\n",
      "[3.103s] [ext: omni.isaac.franka-0.3.0] startup\n",
      "[3.103s] [ext: omni.kit.browser.core-2.0.12] startup\n",
      "[3.107s] [ext: omni.kit.graph.editor.core-1.3.3] startup\n",
      "[3.108s] [ext: omni.kit.graph.usd.commands-1.1.0] startup\n",
      "[3.109s] [ext: omni.kit.browser.folder.core-1.1.13] startup\n",
      "[3.111s] [ext: omni.kit.graph.widget.variables-2.0.2] startup\n",
      "[3.112s] [ext: omni.kit.graph.delegate.modern-1.6.0] startup\n",
      "[3.113s] [ext: omni.kit.selection-0.1.0] startup\n",
      "[3.113s] [ext: omni.isaac.debug_draw-0.Saving a temp livesync stage at  omniverse://localhost/Users/ksterx/temp_jupyter_stage.usd  ...Done.\n"
     ]
    }
   ],
   "source": [
    "import getpass\n",
    "\n",
    "user = getpass.getuser()\n",
    "from omni.isaac.kit import SimulationApp\n",
    "\n",
    "user_dir = f\"omniverse://localhost/Users/{user}\"\n",
    "\n",
    "try:\n",
    "    simulation_app.close()\n",
    "except NameError:\n",
    "    simulation_app = SimulationApp({\"livesync_usd\": f\"{user_dir}/temp_jupyter_stage.usd\"})"
   ]
  },
  {
   "cell_type": "code",
   "execution_count": 2,
   "id": "ebd6b817",
   "metadata": {},
   "outputs": [],
   "source": [
    "from omni.isaac.core.utils.stage import add_reference_to_stage\n",
    "from omni.isaac.core import SimulationContext"
   ]
  },
  {
   "cell_type": "code",
   "execution_count": 3,
   "id": "0355b0b3",
   "metadata": {},
   "outputs": [
    {
     "data": {
      "text/plain": [
       "Usd.Prim(</Cube>)"
      ]
     },
     "execution_count": 3,
     "metadata": {},
     "output_type": "execute_result"
    }
   ],
   "source": [
    "add_reference_to_stage(user_dir + \"/cube.usd\", \"/Cube\")"
   ]
  },
  {
   "cell_type": "code",
   "execution_count": 3,
   "id": "c6d47e5e",
   "metadata": {},
   "outputs": [],
   "source": [
    "from omni.isaac.core import World\n",
    "from omni.isaac.core.objects import DynamicCuboid\n",
    "world = World(stage_units_in_meters=1.0)\n",
    "world.scene.add_default_ground_plane()\n",
    "# A render/ step or an update call is needed to reflect the changes to the opened USD in Isaac Sim GUI\n",
    "#  Note: avoid pressing play/ pause or stop in the GUI in this workflow.\n",
    "world.render()\n"
   ]
  },
  {
   "cell_type": "code",
   "execution_count": 7,
   "id": "4ce29ade",
   "metadata": {},
   "outputs": [
    {
     "data": {
      "text/plain": [
       "<omni.isaac.kit.simulation_app.SimulationApp at 0x7faea1649750>"
      ]
     },
     "execution_count": 7,
     "metadata": {},
     "output_type": "execute_result"
    }
   ],
   "source": [
    "simulation_app"
   ]
  },
  {
   "cell_type": "code",
   "execution_count": 8,
   "id": "49f05849",
   "metadata": {},
   "outputs": [],
   "source": [
    "stage = simulation_app.context.get_stage()"
   ]
  },
  {
   "cell_type": "code",
   "execution_count": 9,
   "id": "914df2fe",
   "metadata": {},
   "outputs": [
    {
     "data": {
      "text/plain": [
       "Usd.Stage.Open(rootLayer=Sdf.Find('omniverse://localhost/Users/ksterx/temp_jupyter_stage.usd'), sessionLayer=Sdf.Find('anon:0x165fb650'), pathResolverContext=None)"
      ]
     },
     "execution_count": 9,
     "metadata": {},
     "output_type": "execute_result"
    }
   ],
   "source": [
    "stage"
   ]
  },
  {
   "cell_type": "code",
   "execution_count": 10,
   "id": "5b821c6d",
   "metadata": {},
   "outputs": [
    {
     "data": {
      "text/plain": [
       "Usd.Prim(</>)"
      ]
     },
     "execution_count": 10,
     "metadata": {},
     "output_type": "execute_result"
    }
   ],
   "source": [
    "stage.GetPseudoRoot()"
   ]
  },
  {
   "cell_type": "code",
   "execution_count": 11,
   "id": "0d0ca291",
   "metadata": {},
   "outputs": [],
   "source": [
    "root = stage.GetPrimAtPath(\"/World\")"
   ]
  },
  {
   "cell_type": "code",
   "execution_count": 13,
   "id": "3e33e444",
   "metadata": {},
   "outputs": [
    {
     "data": {
      "text/plain": [
       "Usd.Prim(</World>)"
      ]
     },
     "execution_count": 13,
     "metadata": {},
     "output_type": "execute_result"
    }
   ],
   "source": [
    "root"
   ]
  },
  {
   "cell_type": "code",
   "execution_count": 14,
   "id": "249051c2",
   "metadata": {},
   "outputs": [
    {
     "data": {
      "text/plain": [
       "[Usd.Prim(</World/defaultGroundPlane>), Usd.Prim(</World/Physics_Materials>)]"
      ]
     },
     "execution_count": 14,
     "metadata": {},
     "output_type": "execute_result"
    }
   ],
   "source": [
    "root.GetAllChildren()"
   ]
  },
  {
   "cell_type": "code",
   "execution_count": 4,
   "id": "0607d8c6",
   "metadata": {},
   "outputs": [],
   "source": [
    "from omni.isaac.core.robots import Robot"
   ]
  },
  {
   "cell_type": "code",
   "execution_count": 5,
   "id": "bd2ef575",
   "metadata": {},
   "outputs": [],
   "source": [
    "from omni.isaac.core.utils.nucleus import get_assets_root_path\n",
    "asset_path = get_assets_root_path() + \"/Isaac/Robots/Franka/franka_alt_fingers.usd\"\n",
    "add_reference_to_stage(usd_path=asset_path, prim_path=\"/World/Franka_1\")\n",
    "robo = Robot(prim_path=\"/World/Franka_1\", name=\"franka1\")"
   ]
  },
  {
   "cell_type": "code",
   "execution_count": 8,
   "id": "7bce68f3",
   "metadata": {},
   "outputs": [],
   "source": [
    "robo?"
   ]
  },
  {
   "cell_type": "code",
   "execution_count": 6,
   "id": "5acd3e6d",
   "metadata": {},
   "outputs": [
    {
     "data": {
      "text/plain": [
       "<omni.isaac.core.robots.robot.Robot at 0x7f7668d39290>"
      ]
     },
     "execution_count": 6,
     "metadata": {},
     "output_type": "execute_result"
    }
   ],
   "source": [
    "world.scene.add(robo)"
   ]
  },
  {
   "cell_type": "code",
   "execution_count": 11,
   "id": "26778567",
   "metadata": {},
   "outputs": [
    {
     "data": {
      "text/plain": [
       "1"
      ]
     },
     "execution_count": 11,
     "metadata": {},
     "output_type": "execute_result"
    }
   ],
   "source": [
    "1"
   ]
  },
  {
   "cell_type": "code",
   "execution_count": null,
   "id": "71b4aa89",
   "metadata": {},
   "outputs": [],
   "source": []
  }
 ],
 "metadata": {
  "kernelspec": {
   "display_name": "Isaac Sim Python 3",
   "language": "python",
   "name": "isaac_sim_python3"
  },
  "language_info": {
   "codemirror_mode": {
    "name": "ipython",
    "version": 3
   },
   "file_extension": ".py",
   "mimetype": "text/x-python",
   "name": "python",
   "nbconvert_exporter": "python",
   "pygments_lexer": "ipython3",
   "version": "3.7.13"
  }
 },
 "nbformat": 4,
 "nbformat_minor": 5
}
